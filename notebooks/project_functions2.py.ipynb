{
 "cells": [
  {
   "cell_type": "code",
   "execution_count": null,
   "id": "549af356",
   "metadata": {},
   "outputs": [],
   "source": [
    "import numpy as np\n",
    "import pandas as pd\n",
    "import matplotlib.pyplot as plt\n",
    "import seaborn as sns\n",
    "\n",
    "\n",
    "def load_and_process_emissions(url_or_path_to_csv_file):\n",
    "\n",
    "    # Load data and deal with missing data\n",
    "    dataEmissions = pd.read_csv('../data/raw/CO2emissions.csv', skiprows=4) \n",
    "\n",
    "    dataEmissions = (dataEmissions\n",
    "        .drop(dataEmissions.columns[[1,2,3,4,5,6,7,8,9,10,11,12,13,14,15,16,17,18,19,20,21,22,23,24,25,26,27,28,29,30,31,32,33]], axis=1)\n",
    "        .drop(dataEmissions.index[[1,3,36, 49, 61, 62,63, 64, 65, 73, \n",
    "                             74, 98, 102, 103, 104, 105, 107, 110, \n",
    "                             128, 134, 135, 139, 140, 142, 153, 156, 170,\n",
    "                             181, 183, 191, 198, 215, 218, 230, 231, 236, \n",
    "                             238, 240, 241, 249, 259,]], inplace=True)\n",
    "        .melt(id_vars = [\"Country Name\"])\n",
    "        .rename(columns={dataEmissions2.columns[1]: 'Year', dataEmissions2.columns[2]: 'CO2 emissions'},inplace=True)\n",
    "        .dropna(subset=['CO2 emissions'])\n",
    "\n",
    "    \n",
    "      )\n",
    "\n",
    "\n",
    "    return dataEmissions \n",
    "\n",
    "def load_and_process_gdp(url_or_path_to_csv_file):\n",
    "\n",
    "    # Load data and deal with missing data\n",
    "    dataGDP = (\n",
    "         pd.read_csv('../data/raw/gdp-per-capita-worldbank.csv')\n",
    "        .rename(columns={dataGDP.columns[0]: 'Country Name'}, inplace=True)\n",
    "\n",
    "      )\n",
    "\n",
    "    # Create new columns, drop others, and do processing\n",
    "    \n",
    "\n",
    "\n",
    "    # return the latest dataframe\n",
    "\n",
    "    return dataEmissions \n",
    "\n",
    "\n",
    "\n",
    "#Test functions when they are complete\n",
    "#load_and_process_emissions('../data/raw/CO2emissions.csv')"
   ]
  },
  {
   "cell_type": "code",
   "execution_count": null,
   "id": "387975ad",
   "metadata": {},
   "outputs": [],
   "source": []
  }
 ],
 "metadata": {
  "kernelspec": {
   "display_name": "Python 3 (ipykernel)",
   "language": "python",
   "name": "python3"
  },
  "language_info": {
   "codemirror_mode": {
    "name": "ipython",
    "version": 3
   },
   "file_extension": ".py",
   "mimetype": "text/x-python",
   "name": "python",
   "nbconvert_exporter": "python",
   "pygments_lexer": "ipython3",
   "version": "3.9.12"
  }
 },
 "nbformat": 4,
 "nbformat_minor": 5
}
