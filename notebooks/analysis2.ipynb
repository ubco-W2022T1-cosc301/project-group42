{
 "cells": [
  {
   "cell_type": "markdown",
   "metadata": {},
   "source": [
    "# Maya"
   ]
  },
  {
   "cell_type": "markdown",
   "metadata": {},
   "source": [
    "## Research question/interests\n",
    "\n",
    "My research questions focus on CO2 emissions and GDP. I have two main questions which are:\n",
    "\n",
    "1. In recent times, how does the correlation between GDP and CO2 emissions compare in third world countries vs first world countries? Do these correlations hold during financial crises periods?\n",
    "\n",
    "2. What percentage of CO2 emissions are first world and third world countries each presently responsible for? How has this changed over the years?\n"
   ]
  },
  {
   "cell_type": "code",
   "execution_count": null,
   "metadata": {},
   "outputs": [
    {
     "name": "stdout",
     "output_type": "stream",
     "text": [
      "                    Country Name      1990      1991      1992      1993  \\\n",
      "0                          Aruba       NaN       NaN       NaN       NaN   \n",
      "1    Africa Eastern and Southern  0.999038  0.953224  0.915661  0.916485   \n",
      "2                    Afghanistan  0.191745  0.167682  0.095958  0.084721   \n",
      "3     Africa Western and Central  0.478144  0.530016  0.568305  0.523529   \n",
      "4                         Angola  0.553662  0.544539  0.543557  0.708984   \n",
      "..                           ...       ...       ...       ...       ...   \n",
      "261                       Kosovo       NaN       NaN       NaN       NaN   \n",
      "262                  Yemen, Rep.  0.567037  0.690937  0.704793  0.627105   \n",
      "263                 South Africa  6.729799  6.424622  6.175430  6.219194   \n",
      "264                       Zambia  0.340930  0.349232  0.337224  0.289956   \n",
      "265                     Zimbabwe  1.585444  1.713321  1.694416  1.539741   \n",
      "\n",
      "         1994      1995      1996      1997      1998  ...      2013  \\\n",
      "0         NaN       NaN       NaN       NaN       NaN  ...       NaN   \n",
      "1    0.917093  0.936570  0.947393  0.967836  0.967182  ...  1.005027   \n",
      "2    0.075546  0.068468  0.062588  0.056827  0.052691  ...  0.185624   \n",
      "3    0.470888  0.501681  0.564390  0.549638  0.514868  ...  0.508099   \n",
      "4    0.836804  0.912141  1.072168  1.086637  1.091825  ...  1.036294   \n",
      "..        ...       ...       ...       ...       ...  ...       ...   \n",
      "261       NaN       NaN       NaN       NaN       NaN  ...       NaN   \n",
      "262  0.653256  0.706081  0.698158  0.728608  0.757433  ...  1.106688   \n",
      "263  6.215847  6.378790  6.489192  6.723589  6.787424  ...  8.138264   \n",
      "264  0.241270  0.234153  0.188442  0.238601  0.219937  ...  0.284058   \n",
      "265  1.417186  1.356619  1.287559  1.186793  1.197745  ...  0.919824   \n",
      "\n",
      "         2014      2015      2016      2017      2018      2019  2020  2021  \\\n",
      "0         NaN       NaN       NaN       NaN       NaN       NaN   NaN   NaN   \n",
      "1    1.016649  0.966589  0.948410  0.937926  0.917507  0.913618   NaN   NaN   \n",
      "2    0.146236  0.172897  0.149789  0.131695  0.163295  0.159824   NaN   NaN   \n",
      "3    0.515960  0.494065  0.499405  0.483140  0.486456  0.493923   NaN   NaN   \n",
      "4    1.099779  1.135044  1.031811  0.813301  0.777675  0.792137   NaN   NaN   \n",
      "..        ...       ...       ...       ...       ...       ...   ...   ...   \n",
      "261       NaN       NaN       NaN       NaN       NaN       NaN   NaN   NaN   \n",
      "262  1.062211  0.511362  0.399364  0.359622  0.341068  0.380633   NaN   NaN   \n",
      "263  8.212241  7.669938  7.563739  7.641675  7.515679  7.507736   NaN   NaN   \n",
      "264  0.304550  0.312355  0.325115  0.404068  0.445489  0.380717   NaN   NaN   \n",
      "265  0.889104  0.899770  0.785441  0.726297  0.857411  0.802979   NaN   NaN   \n",
      "\n",
      "     Unnamed: 66  \n",
      "0            NaN  \n",
      "1            NaN  \n",
      "2            NaN  \n",
      "3            NaN  \n",
      "4            NaN  \n",
      "..           ...  \n",
      "261          NaN  \n",
      "262          NaN  \n",
      "263          NaN  \n",
      "264          NaN  \n",
      "265          NaN  \n",
      "\n",
      "[266 rows x 34 columns]\n"
     ]
    }
   ],
   "source": [
    "import pandas as pd\n",
    "\n",
    "dataEmissions = pd.read_csv('../data/raw/CO2emissions.csv', skiprows=4) \n",
    "dataEmissions = dataEmissions.drop(dataEmissions.columns[[1,2,3,4,5,6,7,8,9,10,11,12,13,14,15,16,17,18,19,20,21,22,23,24,25,26,27,28,29,30,31,32,33]], axis=1)\n",
    "print(dataEmissions)"
   ]
  },
  {
   "cell_type": "code",
   "execution_count": null,
   "metadata": {},
   "outputs": [
    {
     "name": "stdout",
     "output_type": "stream",
     "text": [
      "           Entity Code  Year  \\\n",
      "0     Afghanistan  AFG  2002   \n",
      "1     Afghanistan  AFG  2003   \n",
      "2     Afghanistan  AFG  2004   \n",
      "3     Afghanistan  AFG  2005   \n",
      "4     Afghanistan  AFG  2006   \n",
      "...           ...  ...   ...   \n",
      "6161     Zimbabwe  ZWE  2016   \n",
      "6162     Zimbabwe  ZWE  2017   \n",
      "6163     Zimbabwe  ZWE  2018   \n",
      "6164     Zimbabwe  ZWE  2019   \n",
      "6165     Zimbabwe  ZWE  2020   \n",
      "\n",
      "      GDP per capita, PPP (constant 2017 international $)  \n",
      "0                                           1189.784668    \n",
      "1                                           1235.810059    \n",
      "2                                           1200.277954    \n",
      "3                                           1286.793701    \n",
      "4                                           1315.789062    \n",
      "...                                                 ...    \n",
      "6161                                        3678.217041    \n",
      "6162                                        3795.642334    \n",
      "6163                                        3923.030518    \n",
      "6164                                        3630.033936    \n",
      "6165                                        3353.411377    \n",
      "\n",
      "[6166 rows x 4 columns]\n"
     ]
    }
   ],
   "source": [
    "dataGDP = pd.read_csv('../data/raw/gdp-per-capita-worldbank.csv')\n",
    "print(dataGDP)"
   ]
  },
  {
   "cell_type": "code",
   "execution_count": null,
   "metadata": {},
   "outputs": [],
   "source": []
  }
 ],
 "metadata": {
  "kernelspec": {
   "display_name": "Python 3",
   "language": "python",
   "name": "python3"
  },
  "language_info": {
   "codemirror_mode": {
    "name": "ipython",
    "version": 3
   },
   "file_extension": ".py",
   "mimetype": "text/x-python",
   "name": "python",
   "nbconvert_exporter": "python",
   "pygments_lexer": "ipython3",
   "version": "3.9.12"
  }
 },
 "nbformat": 4,
 "nbformat_minor": 4
}
