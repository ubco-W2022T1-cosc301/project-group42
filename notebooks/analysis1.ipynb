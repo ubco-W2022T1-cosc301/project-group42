{
 "cells": [
  {
   "cell_type": "markdown",
   "metadata": {},
   "source": [
    "# Shila Rahman"
   ]
  },
  {
   "cell_type": "markdown",
   "metadata": {},
   "source": [
    "## Research question/interests\n",
    "\n",
    "My research interest includes understanding how a countries wealth and forest area relates to CO2 emission. I will be focusing on these 2 research question:\n",
    "\n",
    "1) Does countries with higher GDP contirbutes more towards carbon emission?\n",
    "2) Is GDP in any way related to a country's owned forest area?\n",
    "\n"
   ]
  },
  {
   "cell_type": "code",
   "execution_count": null,
   "metadata": {},
   "outputs": [],
   "source": [
    "#MileStone2"
   ]
  },
  {
   "cell_type": "code",
   "execution_count": 2,
   "metadata": {},
   "outputs": [],
   "source": [
    "import pandas as pd\n",
    "import numpy as np\n",
    "import seaborn as sns\n",
    "import matplotlib.pyplot as plt"
   ]
  },
  {
   "cell_type": "code",
   "execution_count": 13,
   "metadata": {},
   "outputs": [
    {
     "name": "stdout",
     "output_type": "stream",
     "text": [
      "                    Country Name      1990      1991      1992      1993  \\\n",
      "0                          Aruba       NaN       NaN       NaN       NaN   \n",
      "1    Africa Eastern and Southern  0.999038  0.953224  0.915661  0.916485   \n",
      "2                    Afghanistan  0.191745  0.167682  0.095958  0.084721   \n",
      "3     Africa Western and Central  0.478144  0.530016  0.568305  0.523529   \n",
      "4                         Angola  0.553662  0.544539  0.543557  0.708984   \n",
      "..                           ...       ...       ...       ...       ...   \n",
      "261                       Kosovo       NaN       NaN       NaN       NaN   \n",
      "262                  Yemen, Rep.  0.567037  0.690937  0.704793  0.627105   \n",
      "263                 South Africa  6.729799  6.424622  6.175430  6.219194   \n",
      "264                       Zambia  0.340930  0.349232  0.337224  0.289956   \n",
      "265                     Zimbabwe  1.585444  1.713321  1.694416  1.539741   \n",
      "\n",
      "         1994      1995      1996      1997      1998  ...      2011  \\\n",
      "0         NaN       NaN       NaN       NaN       NaN  ...       NaN   \n",
      "1    0.917093  0.936570  0.947393  0.967836  0.967182  ...  0.979352   \n",
      "2    0.075546  0.068468  0.062588  0.056827  0.052691  ...  0.296506   \n",
      "3    0.470888  0.501681  0.564390  0.549638  0.514868  ...  0.476789   \n",
      "4    0.836804  0.912141  1.072168  1.086637  1.091825  ...  0.985522   \n",
      "..        ...       ...       ...       ...       ...  ...       ...   \n",
      "261       NaN       NaN       NaN       NaN       NaN  ...       NaN   \n",
      "262  0.653256  0.706081  0.698158  0.728608  0.757433  ...  0.963978   \n",
      "263  6.215847  6.378790  6.489192  6.723589  6.787424  ...  7.869816   \n",
      "264  0.241270  0.234153  0.188442  0.238601  0.219937  ...  0.217497   \n",
      "265  1.417186  1.356619  1.287559  1.186793  1.197745  ...  0.884886   \n",
      "\n",
      "         2012      2013      2014      2015      2016      2017      2018  \\\n",
      "0         NaN       NaN       NaN       NaN       NaN       NaN       NaN   \n",
      "1    0.992616  1.005027  1.016649  0.966589  0.948410  0.937926  0.917507   \n",
      "2    0.259295  0.185624  0.146236  0.172897  0.149789  0.131695  0.163295   \n",
      "3    0.480603  0.508099  0.515960  0.494065  0.499405  0.483140  0.486456   \n",
      "4    0.950696  1.036294  1.099779  1.135044  1.031811  0.813301  0.777675   \n",
      "..        ...       ...       ...       ...       ...       ...       ...   \n",
      "261       NaN       NaN       NaN       NaN       NaN       NaN       NaN   \n",
      "262  0.858491  1.106688  1.062211  0.511362  0.399364  0.359622  0.341068   \n",
      "263  8.077958  8.138264  8.212241  7.669938  7.563739  7.641675  7.515679   \n",
      "264  0.278601  0.284058  0.304550  0.312355  0.325115  0.404068  0.445489   \n",
      "265  0.915735  0.919824  0.889104  0.899770  0.785441  0.726297  0.857411   \n",
      "\n",
      "         2019  Unnamed: 66  \n",
      "0         NaN          NaN  \n",
      "1    0.913618          NaN  \n",
      "2    0.159824          NaN  \n",
      "3    0.493923          NaN  \n",
      "4    0.792137          NaN  \n",
      "..        ...          ...  \n",
      "261       NaN          NaN  \n",
      "262  0.380633          NaN  \n",
      "263  7.507736          NaN  \n",
      "264  0.380717          NaN  \n",
      "265  0.802979          NaN  \n",
      "\n",
      "[266 rows x 32 columns]\n"
     ]
    }
   ],
   "source": [
    "\n",
    "carbonEmissions = pd.read_csv('../data/raw/CO2emissions.csv', skiprows= 4) \n",
    "carbonEmissions = carbonEmissions.drop(carbonEmissions.columns[[1,2,3,4,5,6,7,8,9,10,11,12,13,14,15,16,17,18,19,20,21,22,23,24,25,26,27,28,29,30,31,32,33, 64, 65]], axis=1)\n",
    "print(carbonEmissions)\n"
   ]
  },
  {
   "cell_type": "code",
   "execution_count": 4,
   "metadata": {},
   "outputs": [
    {
     "name": "stdout",
     "output_type": "stream",
     "text": [
      "           Entity Code  Year  \\\n",
      "0     Afghanistan  AFG  2002   \n",
      "1     Afghanistan  AFG  2003   \n",
      "2     Afghanistan  AFG  2004   \n",
      "3     Afghanistan  AFG  2005   \n",
      "4     Afghanistan  AFG  2006   \n",
      "...           ...  ...   ...   \n",
      "6161     Zimbabwe  ZWE  2016   \n",
      "6162     Zimbabwe  ZWE  2017   \n",
      "6163     Zimbabwe  ZWE  2018   \n",
      "6164     Zimbabwe  ZWE  2019   \n",
      "6165     Zimbabwe  ZWE  2020   \n",
      "\n",
      "      GDP per capita, PPP (constant 2017 international $)  \n",
      "0                                           1189.784668    \n",
      "1                                           1235.810059    \n",
      "2                                           1200.277954    \n",
      "3                                           1286.793701    \n",
      "4                                           1315.789062    \n",
      "...                                                 ...    \n",
      "6161                                        3678.217041    \n",
      "6162                                        3795.642334    \n",
      "6163                                        3923.030518    \n",
      "6164                                        3630.033936    \n",
      "6165                                        3353.411377    \n",
      "\n",
      "[6166 rows x 4 columns]\n"
     ]
    }
   ],
   "source": [
    "GDP = pd.read_csv('../data/raw/gdp-per-capita-worldbank.csv')\n",
    "print(GDP)"
   ]
  },
  {
   "cell_type": "code",
   "execution_count": 5,
   "metadata": {},
   "outputs": [
    {
     "name": "stdout",
     "output_type": "stream",
     "text": [
      "           Entity Code  Year  Share of global forest area\n",
      "0     Afghanistan  AFG  1990                     0.028525\n",
      "1     Afghanistan  AFG  1991                     0.028578\n",
      "2     Afghanistan  AFG  1992                     0.028631\n",
      "3     Afghanistan  AFG  1993                     0.028684\n",
      "4     Afghanistan  AFG  1994                     0.028738\n",
      "...           ...  ...   ...                          ...\n",
      "7841     Zimbabwe  ZWE  2016                     0.432198\n",
      "7842     Zimbabwe  ZWE  2017                     0.431596\n",
      "7843     Zimbabwe  ZWE  2018                     0.430993\n",
      "7844     Zimbabwe  ZWE  2019                     0.430389\n",
      "7845     Zimbabwe  ZWE  2020                     0.429782\n",
      "\n",
      "[7846 rows x 4 columns]\n"
     ]
    }
   ],
   "source": [
    "GFA = pd.read_csv('../data/raw/share-global-forest.csv')\n",
    "print(GFA)\n"
   ]
  },
  {
   "cell_type": "code",
   "execution_count": null,
   "metadata": {},
   "outputs": [],
   "source": [
    "#Milestone 3"
   ]
  },
  {
   "cell_type": "code",
   "execution_count": null,
   "metadata": {},
   "outputs": [],
   "source": [
    "#Merging and refininf data for visualisation"
   ]
  },
  {
   "cell_type": "code",
   "execution_count": 73,
   "metadata": {},
   "outputs": [
    {
     "name": "stdout",
     "output_type": "stream",
     "text": [
      "            Country Code_x  Year_x  \\\n",
      "0       Afghanistan    AFG    2002   \n",
      "1       Afghanistan    AFG    2002   \n",
      "2       Afghanistan    AFG    2002   \n",
      "3       Afghanistan    AFG    2002   \n",
      "4       Afghanistan    AFG    2002   \n",
      "...             ...    ...     ...   \n",
      "169636     Zimbabwe    ZWE    2020   \n",
      "169637     Zimbabwe    ZWE    2020   \n",
      "169638     Zimbabwe    ZWE    2020   \n",
      "169639     Zimbabwe    ZWE    2020   \n",
      "169640     Zimbabwe    ZWE    2020   \n",
      "\n",
      "        GDP per capita, PPP (constant 2017 international $) Code_y  Year_y  \\\n",
      "0                                             1189.784668      AFG  1990.0   \n",
      "1                                             1189.784668      AFG  1991.0   \n",
      "2                                             1189.784668      AFG  1992.0   \n",
      "3                                             1189.784668      AFG  1993.0   \n",
      "4                                             1189.784668      AFG  1994.0   \n",
      "...                                                   ...      ...     ...   \n",
      "169636                                        3353.411377      ZWE  2016.0   \n",
      "169637                                        3353.411377      ZWE  2017.0   \n",
      "169638                                        3353.411377      ZWE  2018.0   \n",
      "169639                                        3353.411377      ZWE  2019.0   \n",
      "169640                                        3353.411377      ZWE  2020.0   \n",
      "\n",
      "        Share of global forest area  \n",
      "0                          0.028525  \n",
      "1                          0.028578  \n",
      "2                          0.028631  \n",
      "3                          0.028684  \n",
      "4                          0.028738  \n",
      "...                             ...  \n",
      "169636                     0.432198  \n",
      "169637                     0.431596  \n",
      "169638                     0.430993  \n",
      "169639                     0.430389  \n",
      "169640                     0.429782  \n",
      "\n",
      "[169641 rows x 7 columns]\n"
     ]
    }
   ],
   "source": [
    "mergeGDPndGFA = pd.merge(globalGDP, globalForestArea, on=['Entity'], how = 'left')\n",
    "mergeGDPndGFA.rename(columns={mergeGDPndGFA.columns[0]: 'Country'}, inplace=True)\n",
    "print(mergeGDPndGFA)"
   ]
  },
  {
   "cell_type": "code",
   "execution_count": null,
   "metadata": {},
   "outputs": [],
   "source": [
    "#visualisation"
   ]
  },
  {
   "cell_type": "markdown",
   "metadata": {},
   "source": [
    "## task 1 Cleaning Global forest area Data\n",
    "### Getting rid of continent and other names from entity thats not a country \n",
    "### Getting rid of countries that doesn't match to GDP dataset"
   ]
  },
  {
   "cell_type": "code",
   "execution_count": 6,
   "metadata": {},
   "outputs": [
    {
     "name": "stdout",
     "output_type": "stream",
     "text": [
      "          Country Code  Year  ForestArea\n",
      "0     Afghanistan  AFG  1990    0.028525\n",
      "1     Afghanistan  AFG  1991    0.028578\n",
      "2     Afghanistan  AFG  1992    0.028631\n",
      "3     Afghanistan  AFG  1993    0.028684\n",
      "4     Afghanistan  AFG  1994    0.028738\n",
      "...           ...  ...   ...         ...\n",
      "7841     Zimbabwe  ZWE  2016    0.432198\n",
      "7842     Zimbabwe  ZWE  2017    0.431596\n",
      "7843     Zimbabwe  ZWE  2018    0.430993\n",
      "7844     Zimbabwe  ZWE  2019    0.430389\n",
      "7845     Zimbabwe  ZWE  2020    0.429782\n",
      "\n",
      "[5756 rows x 4 columns]\n"
     ]
    }
   ],
   "source": [
    "values = ['American Samoa','Andorra','Anguilla','British Virgin Islands','Caribbean','Sint Maarten (French part)','Yemen','Venezuela','Vatican','Tokelau','Syria','South Sudan','Saint Pierre and Miquelon','Saint Helena','Pitcairn','Northern Mariana Islands','North Korea','Norfolk Island','Niue','New Caledonia','Montserrat','Monaco','Mayotte','Martinique','Liechtenstein','Isle of Man','Guam','Guadeloupe','Gibraltar','Greenland','Cook Islands','Cuba','Eritrea','Asia','Africa', 'Americas', 'Europe', 'Central America','French Guyana','French Polynesia', 'Central Asia', 'EU-27', 'EU-28','Eastern Africa', 'Eastern Europe', 'Eastern Asia', 'Falkland Islands', 'Faroe Islands','Least Developed Countries','Low Income Food Deficit Countries','Middle Africa', 'Net Food Importing Developing Countries', 'Northern Africa', 'Northern America','Northern Europe','Oceania','Small Island Developing States','South America','Southeastern Asia','Southern Africa','Southern Asia','Southern Europe', 'United States Virgin Islands','Wallis and Futuna Islands','Western Africa', 'Western Asia','Western Europe','Western Sahara','World']\n",
    "df2=GFA[GFA.Entity.isin(values) == False]\n",
    "\n",
    "GFAnew=df2.rename(columns={\"Entity\": \"Country\",\"Share of global forest area\":\"ForestArea\"})\n",
    "print(GFAnew)"
   ]
  },
  {
   "cell_type": "markdown",
   "metadata": {},
   "source": [
    "## task 1 continued: Cleaning GDP data\n",
    "### Getting rid of continent and other names from entity thats not a country\n",
    "### Getting rid of countries that doesn't match to GFA dataset"
   ]
  },
  {
   "cell_type": "code",
   "execution_count": 7,
   "metadata": {},
   "outputs": [
    {
     "name": "stdout",
     "output_type": "stream",
     "text": [
      "          Country Code  Year   GDP/capita\n",
      "0     Afghanistan  AFG  2002  1189.784668\n",
      "1     Afghanistan  AFG  2003  1235.810059\n",
      "2     Afghanistan  AFG  2004  1200.277954\n",
      "3     Afghanistan  AFG  2005  1286.793701\n",
      "4     Afghanistan  AFG  2006  1315.789062\n",
      "...           ...  ...   ...          ...\n",
      "6161     Zimbabwe  ZWE  2016  3678.217041\n",
      "6162     Zimbabwe  ZWE  2017  3795.642334\n",
      "6163     Zimbabwe  ZWE  2018  3923.030518\n",
      "6164     Zimbabwe  ZWE  2019  3630.033936\n",
      "6165     Zimbabwe  ZWE  2020  3353.411377\n",
      "\n",
      "[5636 rows x 4 columns]\n"
     ]
    }
   ],
   "source": [
    "values1 = ['Cote','Curacao','Hong Kong','Kosovo','Macao','East Asia and Pacific', 'Europe and Central Asia', 'European Union', 'High income', 'Latin America and Caribbean', 'Low and middle income', 'Low income','Lower middle income', 'Middle East and North Africa', 'Eastern Asia', 'Middle income', 'North America','South Asia','Sub-Saharan Africa','Upper middle income']\n",
    "df1=GDP[GDP.Entity.isin(values1) == False]\n",
    "\n",
    "GDPnew=df1.rename(columns={\"Entity\": \"Country\",\"GDP per capita, PPP (constant 2017 international $)\":\"GDP/capita\"})\n",
    "print(GDPnew)"
   ]
  },
  {
   "cell_type": "markdown",
   "metadata": {},
   "source": [
    "## task 2 Exploratoy Data Analysis (GFA)\n",
    "\n",
    "### Here we get an overall idea of the dataset with describe function\n",
    "### with max function we get the max value of each column, hence, the value 20.086841 here is not the forest area of Zimbabwe in the year 2020."
   ]
  },
  {
   "cell_type": "code",
   "execution_count": 8,
   "metadata": {},
   "outputs": [
    {
     "data": {
      "text/html": [
       "<div>\n",
       "<style scoped>\n",
       "    .dataframe tbody tr th:only-of-type {\n",
       "        vertical-align: middle;\n",
       "    }\n",
       "\n",
       "    .dataframe tbody tr th {\n",
       "        vertical-align: top;\n",
       "    }\n",
       "\n",
       "    .dataframe thead th {\n",
       "        text-align: right;\n",
       "    }\n",
       "</style>\n",
       "<table border=\"1\" class=\"dataframe\">\n",
       "  <thead>\n",
       "    <tr style=\"text-align: right;\">\n",
       "      <th></th>\n",
       "      <th>Year</th>\n",
       "      <th>ForestArea</th>\n",
       "    </tr>\n",
       "  </thead>\n",
       "  <tbody>\n",
       "    <tr>\n",
       "      <th>count</th>\n",
       "      <td>5756.000000</td>\n",
       "      <td>5756.000000</td>\n",
       "    </tr>\n",
       "    <tr>\n",
       "      <th>mean</th>\n",
       "      <td>2005.254691</td>\n",
       "      <td>0.555780</td>\n",
       "    </tr>\n",
       "    <tr>\n",
       "      <th>std</th>\n",
       "      <td>8.884984</td>\n",
       "      <td>1.973763</td>\n",
       "    </tr>\n",
       "    <tr>\n",
       "      <th>min</th>\n",
       "      <td>1990.000000</td>\n",
       "      <td>0.000000</td>\n",
       "    </tr>\n",
       "    <tr>\n",
       "      <th>25%</th>\n",
       "      <td>1998.000000</td>\n",
       "      <td>0.006931</td>\n",
       "    </tr>\n",
       "    <tr>\n",
       "      <th>50%</th>\n",
       "      <td>2005.000000</td>\n",
       "      <td>0.062292</td>\n",
       "    </tr>\n",
       "    <tr>\n",
       "      <th>75%</th>\n",
       "      <td>2013.000000</td>\n",
       "      <td>0.315682</td>\n",
       "    </tr>\n",
       "    <tr>\n",
       "      <th>max</th>\n",
       "      <td>2020.000000</td>\n",
       "      <td>20.086841</td>\n",
       "    </tr>\n",
       "  </tbody>\n",
       "</table>\n",
       "</div>"
      ],
      "text/plain": [
       "              Year   ForestArea\n",
       "count  5756.000000  5756.000000\n",
       "mean   2005.254691     0.555780\n",
       "std       8.884984     1.973763\n",
       "min    1990.000000     0.000000\n",
       "25%    1998.000000     0.006931\n",
       "50%    2005.000000     0.062292\n",
       "75%    2013.000000     0.315682\n",
       "max    2020.000000    20.086841"
      ]
     },
     "execution_count": 8,
     "metadata": {},
     "output_type": "execute_result"
    }
   ],
   "source": [
    "GFAnew.describe()"
   ]
  },
  {
   "cell_type": "code",
   "execution_count": 9,
   "metadata": {},
   "outputs": [
    {
     "name": "stderr",
     "output_type": "stream",
     "text": [
      "/var/folders/g1/7g3qs_hx6_g_vf2vwvmw06jw0000gn/T/ipykernel_36551/875292355.py:1: FutureWarning: Dropping of nuisance columns in DataFrame reductions (with 'numeric_only=None') is deprecated; in a future version this will raise TypeError.  Select only valid columns before calling the reduction.\n",
      "  GFAnew.max()\n"
     ]
    },
    {
     "data": {
      "text/plain": [
       "Country        Zimbabwe\n",
       "Year               2020\n",
       "ForestArea    20.086841\n",
       "dtype: object"
      ]
     },
     "execution_count": 9,
     "metadata": {},
     "output_type": "execute_result"
    }
   ],
   "source": [
    "GFAnew.max()"
   ]
  },
  {
   "cell_type": "markdown",
   "metadata": {},
   "source": [
    "## task 2 Exploratoy Data Analysis: Continued (GDP)\n",
    "\n",
    "### with the nlargest() method, it is returning the top 3 values under GDP, however it doesn't give values for distinct countries\n",
    "\n",
    "### with the nsmallest() method, it is returning the bottom 3 values under GDP,however it doesn't give values for distinct countries"
   ]
  },
  {
   "cell_type": "code",
   "execution_count": 11,
   "metadata": {},
   "outputs": [
    {
     "data": {
      "text/html": [
       "<div>\n",
       "<style scoped>\n",
       "    .dataframe tbody tr th:only-of-type {\n",
       "        vertical-align: middle;\n",
       "    }\n",
       "\n",
       "    .dataframe tbody tr th {\n",
       "        vertical-align: top;\n",
       "    }\n",
       "\n",
       "    .dataframe thead th {\n",
       "        text-align: right;\n",
       "    }\n",
       "</style>\n",
       "<table border=\"1\" class=\"dataframe\">\n",
       "  <thead>\n",
       "    <tr style=\"text-align: right;\">\n",
       "      <th></th>\n",
       "      <th>Country</th>\n",
       "      <th>Code</th>\n",
       "      <th>Year</th>\n",
       "      <th>GDP/capita</th>\n",
       "    </tr>\n",
       "  </thead>\n",
       "  <tbody>\n",
       "    <tr>\n",
       "      <th>3245</th>\n",
       "      <td>Luxembourg</td>\n",
       "      <td>LUX</td>\n",
       "      <td>2007</td>\n",
       "      <td>120647.820312</td>\n",
       "    </tr>\n",
       "    <tr>\n",
       "      <th>3246</th>\n",
       "      <td>Luxembourg</td>\n",
       "      <td>LUX</td>\n",
       "      <td>2008</td>\n",
       "      <td>118154.664062</td>\n",
       "    </tr>\n",
       "    <tr>\n",
       "      <th>3257</th>\n",
       "      <td>Luxembourg</td>\n",
       "      <td>LUX</td>\n",
       "      <td>2019</td>\n",
       "      <td>116518.273438</td>\n",
       "    </tr>\n",
       "  </tbody>\n",
       "</table>\n",
       "</div>"
      ],
      "text/plain": [
       "         Country Code  Year     GDP/capita\n",
       "3245  Luxembourg  LUX  2007  120647.820312\n",
       "3246  Luxembourg  LUX  2008  118154.664062\n",
       "3257  Luxembourg  LUX  2019  116518.273438"
      ]
     },
     "execution_count": 11,
     "metadata": {},
     "output_type": "execute_result"
    }
   ],
   "source": [
    "GDPnew.nlargest(3, 'GDP/capita')"
   ]
  },
  {
   "cell_type": "code",
   "execution_count": 32,
   "metadata": {},
   "outputs": [
    {
     "data": {
      "text/html": [
       "<div>\n",
       "<style scoped>\n",
       "    .dataframe tbody tr th:only-of-type {\n",
       "        vertical-align: middle;\n",
       "    }\n",
       "\n",
       "    .dataframe tbody tr th {\n",
       "        vertical-align: top;\n",
       "    }\n",
       "\n",
       "    .dataframe thead th {\n",
       "        text-align: right;\n",
       "    }\n",
       "</style>\n",
       "<table border=\"1\" class=\"dataframe\">\n",
       "  <thead>\n",
       "    <tr style=\"text-align: right;\">\n",
       "      <th></th>\n",
       "      <th>Country</th>\n",
       "      <th>Code</th>\n",
       "      <th>Year</th>\n",
       "      <th>GDP/capita</th>\n",
       "    </tr>\n",
       "  </thead>\n",
       "  <tbody>\n",
       "    <tr>\n",
       "      <th>3802</th>\n",
       "      <td>Mozambique</td>\n",
       "      <td>MOZ</td>\n",
       "      <td>1992</td>\n",
       "      <td>436.720367</td>\n",
       "    </tr>\n",
       "    <tr>\n",
       "      <th>3803</th>\n",
       "      <td>Mozambique</td>\n",
       "      <td>MOZ</td>\n",
       "      <td>1993</td>\n",
       "      <td>464.018372</td>\n",
       "    </tr>\n",
       "    <tr>\n",
       "      <th>3805</th>\n",
       "      <td>Mozambique</td>\n",
       "      <td>MOZ</td>\n",
       "      <td>1995</td>\n",
       "      <td>469.189514</td>\n",
       "    </tr>\n",
       "  </tbody>\n",
       "</table>\n",
       "</div>"
      ],
      "text/plain": [
       "         Country Code  Year  GDP/capita\n",
       "3802  Mozambique  MOZ  1992  436.720367\n",
       "3803  Mozambique  MOZ  1993  464.018372\n",
       "3805  Mozambique  MOZ  1995  469.189514"
      ]
     },
     "execution_count": 32,
     "metadata": {},
     "output_type": "execute_result"
    }
   ],
   "source": [
    "GDPnew.nsmallest(3, 'GDP/capita')"
   ]
  },
  {
   "cell_type": "markdown",
   "metadata": {},
   "source": [
    "# Data visualization\n",
    "## first I am getting rid of years from 1990-2011 as all the countires dont have datas for those years"
   ]
  },
  {
   "cell_type": "code",
   "execution_count": 16,
   "metadata": {},
   "outputs": [
    {
     "name": "stdout",
     "output_type": "stream",
     "text": [
      "          Country Code  Year   GDP/capita\n",
      "10    Afghanistan  AFG  2012  2075.491699\n",
      "11    Afghanistan  AFG  2013  2116.465332\n",
      "12    Afghanistan  AFG  2014  2102.384521\n",
      "13    Afghanistan  AFG  2015  2068.265869\n",
      "14    Afghanistan  AFG  2016  2057.067871\n",
      "...           ...  ...   ...          ...\n",
      "6161     Zimbabwe  ZWE  2016  3678.217041\n",
      "6162     Zimbabwe  ZWE  2017  3795.642334\n",
      "6163     Zimbabwe  ZWE  2018  3923.030518\n",
      "6164     Zimbabwe  ZWE  2019  3630.033936\n",
      "6165     Zimbabwe  ZWE  2020  3353.411377\n",
      "\n",
      "[1710 rows x 4 columns]\n"
     ]
    }
   ],
   "source": [
    "GDPDF=GDPnew[~(GDPnew['Year'] < 2012)]\n",
    "print(GDPDF)\n"
   ]
  },
  {
   "cell_type": "code",
   "execution_count": 18,
   "metadata": {},
   "outputs": [
    {
     "name": "stdout",
     "output_type": "stream",
     "text": [
      "          Country Code  Year  ForestArea\n",
      "22    Afghanistan  AFG  2012    0.029493\n",
      "23    Afghanistan  AFG  2013    0.029526\n",
      "24    Afghanistan  AFG  2014    0.029558\n",
      "25    Afghanistan  AFG  2015    0.029591\n",
      "26    Afghanistan  AFG  2016    0.029627\n",
      "...           ...  ...   ...         ...\n",
      "7841     Zimbabwe  ZWE  2016    0.432198\n",
      "7842     Zimbabwe  ZWE  2017    0.431596\n",
      "7843     Zimbabwe  ZWE  2018    0.430993\n",
      "7844     Zimbabwe  ZWE  2019    0.430389\n",
      "7845     Zimbabwe  ZWE  2020    0.429782\n",
      "\n",
      "[1719 rows x 4 columns]\n"
     ]
    }
   ],
   "source": [
    "GFADF=GFAnew[~(GFAnew['Year'] < 2012)]\n",
    "print(GFADF)"
   ]
  },
  {
   "cell_type": "code",
   "execution_count": 54,
   "metadata": {},
   "outputs": [
    {
     "name": "stdout",
     "output_type": "stream",
     "text": [
      "                   Country Code  Year     GDP/capita\n",
      "3257            Luxembourg  LUX  2019  116518.273438\n",
      "5007             Singapore  SGP  2019   98411.585938\n",
      "4559                 Qatar  QAT  2012   96261.484375\n",
      "2602               Ireland  IRL  2020   90789.218750\n",
      "601                Bermuda  BMU  2017   81834.953125\n",
      "1007        Cayman Islands  CYM  2019   73633.703125\n",
      "5421           Switzerland  CHE  2019   70944.351562\n",
      "778                 Brunei  BRN  2012   69090.343750\n",
      "5854  United Arab Emirates  ARE  2019   68263.671875\n",
      "4187                Norway  NOR  2019   64385.007812\n",
      "5916         United States  USA  2019   62630.875000\n",
      "2876                Kuwait  KWT  2012   61416.976562\n",
      "4807            San Marino  SMR  2019   60847.105469\n",
      "1457               Denmark  DNK  2019   57161.687500\n",
      "2446               Iceland  ISL  2019   56935.773438\n"
     ]
    }
   ],
   "source": [
    "#countries with top 15 GDP\n",
    "top15GDP=GDPDF.sort_values('GDP/capita', ascending=False).drop_duplicates('Country').head(15)\n",
    "print(top15GDP)"
   ]
  },
  {
   "cell_type": "code",
   "execution_count": 55,
   "metadata": {},
   "outputs": [
    {
     "name": "stdout",
     "output_type": "stream",
     "text": [
      "                           Country Code  Year   GDP/capita\n",
      "879                        Burundi  BDI  2020   731.063232\n",
      "1033      Central African Republic  CAF  2014   822.611206\n",
      "5105                       Somalia  SOM  2013   877.301025\n",
      "1419  Democratic Republic of Congo  COD  2012   926.787842\n",
      "4056                         Niger  NER  2012  1084.764404\n",
      "3822                    Mozambique  MOZ  2012  1120.128540\n",
      "3343                        Malawi  MWI  2012  1386.790039\n",
      "3086                       Liberia  LBR  2020  1392.004883\n",
      "1763                      Ethiopia  ETH  2012  1437.376587\n",
      "3320                    Madagascar  MDG  2020  1463.864990\n",
      "1070                          Chad  TCD  2020  1519.036743\n",
      "4972                  Sierra Leone  SLE  2015  1543.712036\n",
      "4652                        Rwanda  RWA  2012  1682.206543\n",
      "2230                 Guinea-Bissau  GNB  2014  1740.896729\n",
      "5559                          Togo  TGO  2012  1746.931274\n"
     ]
    }
   ],
   "source": [
    "#countries with least 15 GDP\n",
    "bottom15GDP=GDPDF.sort_values('GDP/capita', ascending=True).drop_duplicates('Country').head(15)\n",
    "print(bottom15GDP)"
   ]
  },
  {
   "cell_type": "code",
   "execution_count": 56,
   "metadata": {},
   "outputs": [
    {
     "name": "stdout",
     "output_type": "stream",
     "text": [
      "                               Country Code  Year  ForestArea\n",
      "5759                            Russia  RUS  2020   20.086841\n",
      "944                             Brazil  BRA  2012   12.410547\n",
      "1200                            Canada  CAN  2020    8.547272\n",
      "7351                     United States  USA  2020    7.632423\n",
      "3651  Land Locked Developing Countries  NaN  2012    7.023306\n",
      "1477                             China  CHN  2020    5.419605\n",
      "462                          Australia  AUS  2020    3.301485\n",
      "1774      Democratic Republic of Congo  COD  2012    3.293997\n",
      "3190                         Indonesia  IDN  2012    2.387077\n",
      "5505                              Peru  PER  2012    1.798916\n",
      "3167                             India  IND  2020    1.777807\n",
      "239                             Angola  AGO  2012    1.734000\n",
      "4349                            Mexico  MEX  2012    1.627845\n",
      "1500                          Colombia  COL  2012    1.477508\n",
      "843                            Bolivia  BOL  2012    1.285285\n"
     ]
    }
   ],
   "source": [
    "#countries with top 15 GFA\n",
    "top15GFA=GFADF.sort_values('ForestArea', ascending=False).drop_duplicates('Country').head(15)\n",
    "print(top15GFA)"
   ]
  },
  {
   "cell_type": "code",
   "execution_count": 57,
   "metadata": {},
   "outputs": [
    {
     "name": "stdout",
     "output_type": "stream",
     "text": [
      "                               Country Code  Year  ForestArea\n",
      "5693                             Qatar  QAT  2014    0.000000\n",
      "4703                             Nauru  NRU  2012    0.000000\n",
      "4164                             Malta  MLT  2012    0.000009\n",
      "6210         Sint Maarten (Dutch part)  SXM  2012    0.000009\n",
      "392                              Aruba  ABW  2012    0.000010\n",
      "576                            Bahrain  BHR  2012    0.000013\n",
      "4102                          Maldives  MDV  2012    0.000020\n",
      "781                            Bermuda  BMU  2012    0.000024\n",
      "7190                            Tuvalu  TUV  2012    0.000024\n",
      "5999                        San Marino  SMR  2012    0.000024\n",
      "3560                          Kiribati  KIR  2012    0.000029\n",
      "853   Bonaire, Sint Eustatius and Saba  NaN  2012    0.000047\n",
      "5297                              Oman  OMN  2020    0.000062\n",
      "1836                          Djibouti  DJI  2012    0.000137\n",
      "3591                            Kuwait  KWT  2012    0.000153\n"
     ]
    }
   ],
   "source": [
    "#countries with least 15 GFA\n",
    "bottom15GFA=GFADF.sort_values('ForestArea', ascending=True).drop_duplicates('Country').head(15)\n",
    "print(bottom15GFA)"
   ]
  },
  {
   "cell_type": "code",
   "execution_count": 70,
   "metadata": {},
   "outputs": [
    {
     "data": {
      "text/plain": [
       "<seaborn.axisgrid.FacetGrid at 0x150e7c9d0>"
      ]
     },
     "execution_count": 70,
     "metadata": {},
     "output_type": "execute_result"
    },
    {
     "data": {
      "image/png": "[encoded data removed]",
      "text/plain": [
       "<Figure size 581.375x500 with 1 Axes>"
      ]
     },
     "metadata": {},
     "output_type": "display_data"
    },
    {
     "data": {
      "image/png": "[encoded data removed]",
      "text/plain": [
       "<Figure size 583.25x500 with 1 Axes>"
      ]
     },
     "metadata": {},
     "output_type": "display_data"
    }
   ],
   "source": [
    "sns.catplot(data=top15GFA, x=\"Year\", y=\"ForestArea\", hue=\"Code\", kind=\"bar\")\n",
    "sns.catplot(data=bottom15GFA, x=\"Year\", y=\"ForestArea\", hue=\"Code\", kind=\"bar\")"
   ]
  },
  {
   "cell_type": "code",
   "execution_count": 64,
   "metadata": {},
   "outputs": [
    {
     "data": {
      "text/plain": [
       "<seaborn.axisgrid.FacetGrid at 0x14f727f70>"
      ]
     },
     "execution_count": 64,
     "metadata": {},
     "output_type": "execute_result"
    },
    {
     "data": {
      "image/png": "[encoded data removed]",
      "text/plain": [
       "<Figure size 581.875x500 with 1 Axes>"
      ]
     },
     "metadata": {},
     "output_type": "display_data"
    },
    {
     "data": {
      "image/png": "[encoded data removed]",
      "text/plain": [
       "<Figure size 583.5x500 with 1 Axes>"
      ]
     },
     "metadata": {},
     "output_type": "display_data"
    }
   ],
   "source": [
    "\n",
    "\n",
    "sns.catplot(data=top15GDP, x=\"Year\", y=\"GDP/capita\", hue=\"Code\", kind=\"bar\")\n",
    "sns.catplot(data=bottom15GDP, x=\"Year\", y=\"GDP/capita\", hue=\"Code\", kind=\"bar\")"
   ]
  },
  {
   "cell_type": "code",
   "execution_count": 69,
   "metadata": {},
   "outputs": [
    {
     "data": {
      "text/plain": [
       "<seaborn.axisgrid.FacetGrid at 0x14ffbb9d0>"
      ]
     },
     "execution_count": 69,
     "metadata": {},
     "output_type": "execute_result"
    },
    {
     "data": {
      "image/png": "[encoded data removed]",
      "text/plain": [
       "<Figure size 581.875x500 with 1 Axes>"
      ]
     },
     "metadata": {},
     "output_type": "display_data"
    }
   ],
   "source": [
    "sns.displot(data=top15GDP, x=\"Year\", y=\"GDP/capita\", hue=\"Code\")\n"
   ]
  },
  {
   "cell_type": "markdown",
   "metadata": {},
   "source": [
    "The data is scattered over the year for the top and bottom GFA and GDP countries, hence if i use other kind of plotting style, it doesn't make sense whihc is why I kept it with catplot only.\n",
    "From the visualisation we can see that top and bottom 15 countires of GFA doesnt in directly relate to top/bottom 15 GDP countires.\n",
    "As we see countries lik Qatar and Kuwait belongs to top GDP countries however, they also belong to coutnries with no forest area. Then again, USA belongs to top 15 GDP and top 15 GFA countries too.\n",
    "Hence, we can conclude that, we cannot create a direct definite connection between these two, GDP and GFA are not directly related to each other, other factor likes, countries area, geographiacl location etc plays an important role"
   ]
  }
 ],
 "metadata": {
  "kernelspec": {
   "display_name": "Python 3 (ipykernel)",
   "language": "python",
   "name": "python3"
  },
  "language_info": {
   "codemirror_mode": {
    "name": "ipython",
    "version": 3
   },
   "file_extension": ".py",
   "mimetype": "text/x-python",
   "name": "python",
   "nbconvert_exporter": "python",
   "pygments_lexer": "ipython3",
   "version": "3.9.13"
  }
 },
 "nbformat": 4,
 "nbformat_minor": 4
}
