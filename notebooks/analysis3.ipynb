{
 "cells": [
  {
   "cell_type": "markdown",
   "metadata": {},
   "source": [
    "# Jayden Uphill"
   ]
  },
  {
   "cell_type": "markdown",
   "metadata": {
    "tags": []
   },
   "source": [
    "## Research question/interests\n",
    "\n",
    "My interest in this topic focuses on which countries are mitigating their carbon footprint. I want to know:\n",
    "\n",
    "1. Which countries (if any) have reduced their annual C02 emissions within the last 15 years? (2004-2019)\n",
    "\n",
    "2. Does the wealth of a country have a corrolation to higher C02 emissions? E.g. U.S.A. is more wealthy than China but may emit less C02, and more wealthy than Canada but may emit more C02.\n"
   ]
  },
  {
   "cell_type": "code",
   "execution_count": 3,
   "metadata": {},
   "outputs": [],
   "source": [
    "import pandas as pd\n",
    "import numpy as np\n",
    "import seaborn as sns\n",
    "import matplotlib.pyplot as plt\n",
    "\n",
    "sns.set_theme(font_scale=0.9, palette = \"rocket\")\n"
   ]
  },
  {
   "cell_type": "code",
   "execution_count": 22,
   "metadata": {},
   "outputs": [
    {
     "name": "stdout",
     "output_type": "stream",
     "text": [
      "                    Country Name Country Code  \\\n",
      "0                          Aruba          ABW   \n",
      "1    Africa Eastern and Southern          AFE   \n",
      "2                    Afghanistan          AFG   \n",
      "3     Africa Western and Central          AFW   \n",
      "4                         Angola          AGO   \n",
      "..                           ...          ...   \n",
      "261                       Kosovo          XKX   \n",
      "262                  Yemen, Rep.          YEM   \n",
      "263                 South Africa          ZAF   \n",
      "264                       Zambia          ZMB   \n",
      "265                     Zimbabwe          ZWE   \n",
      "\n",
      "                             Indicator Name      1991      1992      1993  \\\n",
      "0    CO2 emissions (metric tons per capita)       NaN       NaN       NaN   \n",
      "1    CO2 emissions (metric tons per capita)  0.953224  0.915661  0.916485   \n",
      "2    CO2 emissions (metric tons per capita)  0.167682  0.095958  0.084721   \n",
      "3    CO2 emissions (metric tons per capita)  0.530016  0.568305  0.523529   \n",
      "4    CO2 emissions (metric tons per capita)  0.544539  0.543557  0.708984   \n",
      "..                                      ...       ...       ...       ...   \n",
      "261  CO2 emissions (metric tons per capita)       NaN       NaN       NaN   \n",
      "262  CO2 emissions (metric tons per capita)  0.690937  0.704793  0.627105   \n",
      "263  CO2 emissions (metric tons per capita)  6.424622  6.175430  6.219194   \n",
      "264  CO2 emissions (metric tons per capita)  0.349232  0.337224  0.289956   \n",
      "265  CO2 emissions (metric tons per capita)  1.713321  1.694416  1.539741   \n",
      "\n",
      "         1994      1995      1996      1997  ...      2010      2011  \\\n",
      "0         NaN       NaN       NaN       NaN  ...       NaN       NaN   \n",
      "1    0.917093  0.936570  0.947393  0.967836  ...  1.021548  0.979352   \n",
      "2    0.075546  0.068468  0.062588  0.056827  ...  0.243614  0.296506   \n",
      "3    0.470888  0.501681  0.564390  0.549638  ...  0.472077  0.476789   \n",
      "4    0.836804  0.912141  1.072168  1.086637  ...  0.976184  0.985522   \n",
      "..        ...       ...       ...       ...  ...       ...       ...   \n",
      "261       NaN       NaN       NaN       NaN  ...       NaN       NaN   \n",
      "262  0.653256  0.706081  0.698158  0.728608  ...  1.098258  0.963978   \n",
      "263  6.215847  6.378790  6.489192  6.723589  ...  8.304084  7.869816   \n",
      "264  0.241270  0.234153  0.188442  0.238601  ...  0.195502  0.217497   \n",
      "265  1.417186  1.356619  1.287559  1.186793  ...  0.756041  0.884886   \n",
      "\n",
      "         2012      2013      2014      2015      2016      2017      2018  \\\n",
      "0         NaN       NaN       NaN       NaN       NaN       NaN       NaN   \n",
      "1    0.992616  1.005027  1.016649  0.966589  0.948410  0.937926  0.917507   \n",
      "2    0.259295  0.185624  0.146236  0.172897  0.149789  0.131695  0.163295   \n",
      "3    0.480603  0.508099  0.515960  0.494065  0.499405  0.483140  0.486456   \n",
      "4    0.950696  1.036294  1.099779  1.135044  1.031811  0.813301  0.777675   \n",
      "..        ...       ...       ...       ...       ...       ...       ...   \n",
      "261       NaN       NaN       NaN       NaN       NaN       NaN       NaN   \n",
      "262  0.858491  1.106688  1.062211  0.511362  0.399364  0.359622  0.341068   \n",
      "263  8.077958  8.138264  8.212241  7.669938  7.563739  7.641675  7.515679   \n",
      "264  0.278601  0.284058  0.304550  0.312355  0.325115  0.404068  0.445489   \n",
      "265  0.915735  0.919824  0.889104  0.899770  0.785441  0.726297  0.857411   \n",
      "\n",
      "         2019  \n",
      "0         NaN  \n",
      "1    0.913618  \n",
      "2    0.159824  \n",
      "3    0.493923  \n",
      "4    0.792137  \n",
      "..        ...  \n",
      "261       NaN  \n",
      "262  0.380633  \n",
      "263  7.507736  \n",
      "264  0.380717  \n",
      "265  0.802979  \n",
      "\n",
      "[266 rows x 32 columns]\n"
     ]
    }
   ],
   "source": [
    "carbonData = pd.read_csv('../data/raw/CO2emissions.csv', skiprows =4)\n",
    "carbon = carbonData.drop(carbonData.columns[[3,4,5,6,7,8,9,10,11,12,13,14,15,16,17,18,19,20,21,22,23,24,25,26,27,28,29,30,31,32,33,34,64,65,66]], axis=1)\n",
    "\n",
    "print(carbon)"
   ]
  },
  {
   "cell_type": "code",
   "execution_count": 14,
   "metadata": {},
   "outputs": [
    {
     "name": "stdout",
     "output_type": "stream",
     "text": [
      "           Entity Code  Year  \\\n",
      "0     Afghanistan  AFG  2002   \n",
      "1     Afghanistan  AFG  2003   \n",
      "2     Afghanistan  AFG  2004   \n",
      "3     Afghanistan  AFG  2005   \n",
      "4     Afghanistan  AFG  2006   \n",
      "...           ...  ...   ...   \n",
      "6161     Zimbabwe  ZWE  2016   \n",
      "6162     Zimbabwe  ZWE  2017   \n",
      "6163     Zimbabwe  ZWE  2018   \n",
      "6164     Zimbabwe  ZWE  2019   \n",
      "6165     Zimbabwe  ZWE  2020   \n",
      "\n",
      "      GDP per capita, PPP (constant 2017 international $)  \n",
      "0                                           1189.784668    \n",
      "1                                           1235.810059    \n",
      "2                                           1200.277954    \n",
      "3                                           1286.793701    \n",
      "4                                           1315.789062    \n",
      "...                                                 ...    \n",
      "6161                                        3678.217041    \n",
      "6162                                        3795.642334    \n",
      "6163                                        3923.030518    \n",
      "6164                                        3630.033936    \n",
      "6165                                        3353.411377    \n",
      "\n",
      "[6166 rows x 4 columns]\n"
     ]
    }
   ],
   "source": [
    "GDP = pd.read_csv('../data/raw/gdp-per-capita-worldbank.csv')\n",
    "\n",
    "print(GDP)"
   ]
  },
  {
   "cell_type": "markdown",
   "metadata": {},
   "source": [
    "## Milestone 3"
   ]
  },
  {
   "cell_type": "code",
   "execution_count": 64,
   "metadata": {},
   "outputs": [
    {
     "data": {
      "text/plain": [
       "Country Name    266\n",
       "Country Code    266\n",
       "2004            239\n",
       "2005            239\n",
       "2006            239\n",
       "2007            239\n",
       "2008            239\n",
       "2009            239\n",
       "2010            239\n",
       "2011            239\n",
       "2012            239\n",
       "2013            239\n",
       "2014            239\n",
       "2015            239\n",
       "2016            239\n",
       "2017            239\n",
       "2018            239\n",
       "2019            239\n",
       "dtype: int64"
      ]
     },
     "execution_count": 64,
     "metadata": {},
     "output_type": "execute_result"
    }
   ],
   "source": [
    "Pcarbon = carbon.drop(carbon.columns[[2,3,4,5,6,7,8,9,10,11,12,13,14,15]], axis=1)\n",
    "\n",
    "#Shows the data for each country for the last 15 years (each country has an equal amount of recorded data)\n",
    "Pcarbon.count()"
   ]
  },
  {
   "cell_type": "markdown",
   "metadata": {},
   "source": [
    "This method shows global (each country combined) statistics per year"
   ]
  },
  {
   "cell_type": "code",
   "execution_count": 36,
   "metadata": {},
   "outputs": [
    {
     "data": {
      "text/html": [
       "<div>\n",
       "<style scoped>\n",
       "    .dataframe tbody tr th:only-of-type {\n",
       "        vertical-align: middle;\n",
       "    }\n",
       "\n",
       "    .dataframe tbody tr th {\n",
       "        vertical-align: top;\n",
       "    }\n",
       "\n",
       "    .dataframe thead th {\n",
       "        text-align: right;\n",
       "    }\n",
       "</style>\n",
       "<table border=\"1\" class=\"dataframe\">\n",
       "  <thead>\n",
       "    <tr style=\"text-align: right;\">\n",
       "      <th></th>\n",
       "      <th>2004</th>\n",
       "      <th>2005</th>\n",
       "      <th>2006</th>\n",
       "      <th>2007</th>\n",
       "      <th>2008</th>\n",
       "      <th>2009</th>\n",
       "      <th>2010</th>\n",
       "      <th>2011</th>\n",
       "      <th>2012</th>\n",
       "      <th>2013</th>\n",
       "      <th>2014</th>\n",
       "      <th>2015</th>\n",
       "      <th>2016</th>\n",
       "      <th>2017</th>\n",
       "      <th>2018</th>\n",
       "      <th>2019</th>\n",
       "    </tr>\n",
       "  </thead>\n",
       "  <tbody>\n",
       "    <tr>\n",
       "      <th>count</th>\n",
       "      <td>239.000000</td>\n",
       "      <td>239.000000</td>\n",
       "      <td>239.000000</td>\n",
       "      <td>239.000000</td>\n",
       "      <td>239.000000</td>\n",
       "      <td>239.000000</td>\n",
       "      <td>239.000000</td>\n",
       "      <td>239.000000</td>\n",
       "      <td>239.000000</td>\n",
       "      <td>239.000000</td>\n",
       "      <td>239.000000</td>\n",
       "      <td>239.000000</td>\n",
       "      <td>239.000000</td>\n",
       "      <td>239.000000</td>\n",
       "      <td>239.000000</td>\n",
       "      <td>239.000000</td>\n",
       "    </tr>\n",
       "    <tr>\n",
       "      <th>mean</th>\n",
       "      <td>4.372777</td>\n",
       "      <td>4.404123</td>\n",
       "      <td>4.471841</td>\n",
       "      <td>4.461531</td>\n",
       "      <td>4.436029</td>\n",
       "      <td>4.495982</td>\n",
       "      <td>4.333087</td>\n",
       "      <td>4.337205</td>\n",
       "      <td>4.375662</td>\n",
       "      <td>4.286836</td>\n",
       "      <td>4.198346</td>\n",
       "      <td>4.152282</td>\n",
       "      <td>4.155511</td>\n",
       "      <td>4.161985</td>\n",
       "      <td>4.138992</td>\n",
       "      <td>4.089567</td>\n",
       "    </tr>\n",
       "    <tr>\n",
       "      <th>std</th>\n",
       "      <td>5.701152</td>\n",
       "      <td>5.593012</td>\n",
       "      <td>5.583832</td>\n",
       "      <td>5.439832</td>\n",
       "      <td>5.310002</td>\n",
       "      <td>5.180194</td>\n",
       "      <td>5.016823</td>\n",
       "      <td>4.971602</td>\n",
       "      <td>4.953363</td>\n",
       "      <td>4.889850</td>\n",
       "      <td>4.774560</td>\n",
       "      <td>4.686689</td>\n",
       "      <td>4.640333</td>\n",
       "      <td>4.578774</td>\n",
       "      <td>4.480231</td>\n",
       "      <td>4.439935</td>\n",
       "    </tr>\n",
       "    <tr>\n",
       "      <th>min</th>\n",
       "      <td>0.021033</td>\n",
       "      <td>0.020367</td>\n",
       "      <td>0.023660</td>\n",
       "      <td>0.022894</td>\n",
       "      <td>0.022151</td>\n",
       "      <td>0.021435</td>\n",
       "      <td>0.034580</td>\n",
       "      <td>0.040186</td>\n",
       "      <td>0.040017</td>\n",
       "      <td>0.026979</td>\n",
       "      <td>0.029121</td>\n",
       "      <td>0.039370</td>\n",
       "      <td>0.030715</td>\n",
       "      <td>0.035013</td>\n",
       "      <td>0.037113</td>\n",
       "      <td>0.036986</td>\n",
       "    </tr>\n",
       "    <tr>\n",
       "      <th>25%</th>\n",
       "      <td>0.726152</td>\n",
       "      <td>0.758618</td>\n",
       "      <td>0.730561</td>\n",
       "      <td>0.716295</td>\n",
       "      <td>0.661667</td>\n",
       "      <td>0.698265</td>\n",
       "      <td>0.721447</td>\n",
       "      <td>0.774549</td>\n",
       "      <td>0.784804</td>\n",
       "      <td>0.750497</td>\n",
       "      <td>0.802000</td>\n",
       "      <td>0.799460</td>\n",
       "      <td>0.784215</td>\n",
       "      <td>0.803291</td>\n",
       "      <td>0.819434</td>\n",
       "      <td>0.819559</td>\n",
       "    </tr>\n",
       "    <tr>\n",
       "      <th>50%</th>\n",
       "      <td>2.413985</td>\n",
       "      <td>2.510290</td>\n",
       "      <td>2.656578</td>\n",
       "      <td>2.662027</td>\n",
       "      <td>2.749936</td>\n",
       "      <td>2.771868</td>\n",
       "      <td>2.682569</td>\n",
       "      <td>2.699957</td>\n",
       "      <td>2.869867</td>\n",
       "      <td>2.672439</td>\n",
       "      <td>2.758047</td>\n",
       "      <td>2.731323</td>\n",
       "      <td>2.756557</td>\n",
       "      <td>2.696077</td>\n",
       "      <td>2.913849</td>\n",
       "      <td>2.954129</td>\n",
       "    </tr>\n",
       "    <tr>\n",
       "      <th>75%</th>\n",
       "      <td>6.377792</td>\n",
       "      <td>6.478570</td>\n",
       "      <td>6.468566</td>\n",
       "      <td>6.407316</td>\n",
       "      <td>6.420304</td>\n",
       "      <td>6.592198</td>\n",
       "      <td>6.084064</td>\n",
       "      <td>6.226125</td>\n",
       "      <td>6.330283</td>\n",
       "      <td>6.217697</td>\n",
       "      <td>6.007777</td>\n",
       "      <td>5.902288</td>\n",
       "      <td>5.839915</td>\n",
       "      <td>6.077849</td>\n",
       "      <td>6.024132</td>\n",
       "      <td>5.961174</td>\n",
       "    </tr>\n",
       "    <tr>\n",
       "      <th>max</th>\n",
       "      <td>49.208051</td>\n",
       "      <td>44.533806</td>\n",
       "      <td>42.798308</td>\n",
       "      <td>40.896524</td>\n",
       "      <td>36.918708</td>\n",
       "      <td>32.671800</td>\n",
       "      <td>32.634302</td>\n",
       "      <td>33.494413</td>\n",
       "      <td>34.188222</td>\n",
       "      <td>32.598940</td>\n",
       "      <td>33.205895</td>\n",
       "      <td>33.043510</td>\n",
       "      <td>32.745888</td>\n",
       "      <td>32.127990</td>\n",
       "      <td>31.067533</td>\n",
       "      <td>32.474469</td>\n",
       "    </tr>\n",
       "  </tbody>\n",
       "</table>\n",
       "</div>"
      ],
      "text/plain": [
       "             2004        2005        2006        2007        2008        2009  \\\n",
       "count  239.000000  239.000000  239.000000  239.000000  239.000000  239.000000   \n",
       "mean     4.372777    4.404123    4.471841    4.461531    4.436029    4.495982   \n",
       "std      5.701152    5.593012    5.583832    5.439832    5.310002    5.180194   \n",
       "min      0.021033    0.020367    0.023660    0.022894    0.022151    0.021435   \n",
       "25%      0.726152    0.758618    0.730561    0.716295    0.661667    0.698265   \n",
       "50%      2.413985    2.510290    2.656578    2.662027    2.749936    2.771868   \n",
       "75%      6.377792    6.478570    6.468566    6.407316    6.420304    6.592198   \n",
       "max     49.208051   44.533806   42.798308   40.896524   36.918708   32.671800   \n",
       "\n",
       "             2010        2011        2012        2013        2014        2015  \\\n",
       "count  239.000000  239.000000  239.000000  239.000000  239.000000  239.000000   \n",
       "mean     4.333087    4.337205    4.375662    4.286836    4.198346    4.152282   \n",
       "std      5.016823    4.971602    4.953363    4.889850    4.774560    4.686689   \n",
       "min      0.034580    0.040186    0.040017    0.026979    0.029121    0.039370   \n",
       "25%      0.721447    0.774549    0.784804    0.750497    0.802000    0.799460   \n",
       "50%      2.682569    2.699957    2.869867    2.672439    2.758047    2.731323   \n",
       "75%      6.084064    6.226125    6.330283    6.217697    6.007777    5.902288   \n",
       "max     32.634302   33.494413   34.188222   32.598940   33.205895   33.043510   \n",
       "\n",
       "             2016        2017        2018        2019  \n",
       "count  239.000000  239.000000  239.000000  239.000000  \n",
       "mean     4.155511    4.161985    4.138992    4.089567  \n",
       "std      4.640333    4.578774    4.480231    4.439935  \n",
       "min      0.030715    0.035013    0.037113    0.036986  \n",
       "25%      0.784215    0.803291    0.819434    0.819559  \n",
       "50%      2.756557    2.696077    2.913849    2.954129  \n",
       "75%      5.839915    6.077849    6.024132    5.961174  \n",
       "max     32.745888   32.127990   31.067533   32.474469  "
      ]
     },
     "execution_count": 36,
     "metadata": {},
     "output_type": "execute_result"
    }
   ],
   "source": [
    "Pcarbon.describe()"
   ]
  },
  {
   "cell_type": "markdown",
   "metadata": {},
   "source": [
    "2019 has a lower average emmision rate than any other year (2004-2019).\n",
    "2006 has a higher average emmision rate.\n",
    "\n",
    "Below is that data visualized"
   ]
  },
  {
   "cell_type": "code",
   "execution_count": 158,
   "metadata": {},
   "outputs": [
    {
     "data": {
      "text/plain": [
       "<AxesSubplot:>"
      ]
     },
     "execution_count": 158,
     "metadata": {},
     "output_type": "execute_result"
    },
    {
     "data": {
      "image/png": "[encoded data removed]",
      "text/plain": [
       "<Figure size 640x480 with 1 Axes>"
      ]
     },
     "metadata": {},
     "output_type": "display_data"
    }
   ],
   "source": [
    "sns.barplot(data=Pcarbon, color = 'violet')"
   ]
  },
  {
   "cell_type": "markdown",
   "metadata": {},
   "source": [
    "Additionally, we can see Global GDP per year"
   ]
  },
  {
   "cell_type": "code",
   "execution_count": 180,
   "metadata": {},
   "outputs": [
    {
     "data": {
      "text/html": [
       "<div>\n",
       "<style scoped>\n",
       "    .dataframe tbody tr th:only-of-type {\n",
       "        vertical-align: middle;\n",
       "    }\n",
       "\n",
       "    .dataframe tbody tr th {\n",
       "        vertical-align: top;\n",
       "    }\n",
       "\n",
       "    .dataframe thead th {\n",
       "        text-align: right;\n",
       "    }\n",
       "</style>\n",
       "<table border=\"1\" class=\"dataframe\">\n",
       "  <thead>\n",
       "    <tr style=\"text-align: right;\">\n",
       "      <th></th>\n",
       "      <th>Year</th>\n",
       "      <th>GDP</th>\n",
       "    </tr>\n",
       "  </thead>\n",
       "  <tbody>\n",
       "    <tr>\n",
       "      <th>count</th>\n",
       "      <td>3305.000000</td>\n",
       "      <td>3305.000000</td>\n",
       "    </tr>\n",
       "    <tr>\n",
       "      <th>mean</th>\n",
       "      <td>2011.541906</td>\n",
       "      <td>20128.960472</td>\n",
       "    </tr>\n",
       "    <tr>\n",
       "      <th>std</th>\n",
       "      <td>4.602230</td>\n",
       "      <td>21578.333244</td>\n",
       "    </tr>\n",
       "    <tr>\n",
       "      <th>min</th>\n",
       "      <td>2004.000000</td>\n",
       "      <td>751.664124</td>\n",
       "    </tr>\n",
       "    <tr>\n",
       "      <th>25%</th>\n",
       "      <td>2008.000000</td>\n",
       "      <td>4417.150391</td>\n",
       "    </tr>\n",
       "    <tr>\n",
       "      <th>50%</th>\n",
       "      <td>2012.000000</td>\n",
       "      <td>12221.440430</td>\n",
       "    </tr>\n",
       "    <tr>\n",
       "      <th>75%</th>\n",
       "      <td>2016.000000</td>\n",
       "      <td>29053.333984</td>\n",
       "    </tr>\n",
       "    <tr>\n",
       "      <th>max</th>\n",
       "      <td>2019.000000</td>\n",
       "      <td>161971.468750</td>\n",
       "    </tr>\n",
       "  </tbody>\n",
       "</table>\n",
       "</div>"
      ],
      "text/plain": [
       "              Year            GDP\n",
       "count  3305.000000    3305.000000\n",
       "mean   2011.541906   20128.960472\n",
       "std       4.602230   21578.333244\n",
       "min    2004.000000     751.664124\n",
       "25%    2008.000000    4417.150391\n",
       "50%    2012.000000   12221.440430\n",
       "75%    2016.000000   29053.333984\n",
       "max    2019.000000  161971.468750"
      ]
     },
     "execution_count": 180,
     "metadata": {},
     "output_type": "execute_result"
    }
   ],
   "source": [
    "PGDP = GDP[GDP.Year >= 2004]\n",
    "PGDP = PGDP[PGDP.Year <= 2019]\n",
    "PGDP.rename(columns={\"GDP per capita, PPP (constant 2017 international $)\" : \"GDP\"}, inplace=True)\n",
    "PGDP.describe()"
   ]
  },
  {
   "cell_type": "code",
   "execution_count": 156,
   "metadata": {},
   "outputs": [
    {
     "data": {
      "text/plain": [
       "<AxesSubplot:xlabel='Year', ylabel='GDP'>"
      ]
     },
     "execution_count": 156,
     "metadata": {},
     "output_type": "execute_result"
    },
    {
     "data": {
      "image/png": "[encoded data removed]",
      "text/plain": [
       "<Figure size 640x480 with 1 Axes>"
      ]
     },
     "metadata": {},
     "output_type": "display_data"
    }
   ],
   "source": [
    "sns.barplot(PGDP, x=\"Year\", y=\"GDP\", color='green')"
   ]
  },
  {
   "cell_type": "markdown",
   "metadata": {},
   "source": [
    "With this information, we can see that as GDP is increasing on average, carbon emissions are lowering throughout the years. More research is needed to determine if this is a direct correlation "
   ]
  },
  {
   "cell_type": "code",
   "execution_count": 157,
   "metadata": {},
   "outputs": [
    {
     "data": {
      "text/plain": [
       "[Text(0.5, 0, 'Year'), Text(0, 0.5, 'Relative Data')]"
      ]
     },
     "execution_count": 157,
     "metadata": {},
     "output_type": "execute_result"
    },
    {
     "data": {
      "image/png": "[encoded data removed]",
      "text/plain": [
       "<Figure size 640x480 with 1 Axes>"
      ]
     },
     "metadata": {},
     "output_type": "display_data"
    }
   ],
   "source": [
    "#Code taken from:\n",
    "#https://www.geeksforgeeks.org/how-to-overlap-two-barplots-in-seaborn/\n",
    "\n",
    "ax = plt.subplots()\n",
    "\n",
    "ax = sns.barplot(data=Pcarbon, color='violet')\n",
    "ax = sns.barplot(data=PGDP, x=PGDP[\"Year\"], y=PGDP[\"GDP\"]/5000, color='green', alpha=0.5)\n",
    "\n",
    "ax.set(xlabel=\"Year\", ylabel=\"Relative Data\")"
   ]
  },
  {
   "cell_type": "markdown",
   "metadata": {},
   "source": [
    "### Method Chaining"
   ]
  },
  {
   "cell_type": "code",
   "execution_count": 1,
   "metadata": {},
   "outputs": [
    {
     "ename": "NameError",
     "evalue": "name 'pd' is not defined",
     "output_type": "error",
     "traceback": [
      "\u001b[1;31m---------------------------------------------------------------------------\u001b[0m",
      "\u001b[1;31mNameError\u001b[0m                                 Traceback (most recent call last)",
      "Cell \u001b[1;32mIn [1], line 26\u001b[0m\n\u001b[0;32m     19\u001b[0m     GDP2 \u001b[38;5;241m=\u001b[39m (\n\u001b[0;32m     20\u001b[0m         GDP\n\u001b[0;32m     21\u001b[0m         \u001b[38;5;241m.\u001b[39mdrop(PGDP[PGDP[\u001b[38;5;124m'\u001b[39m\u001b[38;5;124mYear\u001b[39m\u001b[38;5;124m'\u001b[39m] \u001b[38;5;241m<\u001b[39m \u001b[38;5;241m2004\u001b[39m]\u001b[38;5;241m.\u001b[39mindex, inplace \u001b[38;5;241m=\u001b[39m \u001b[38;5;28;01mTrue\u001b[39;00m)\n\u001b[0;32m     22\u001b[0m         \u001b[38;5;241m.\u001b[39mdrop(PGDP[PGDP[\u001b[38;5;124m'\u001b[39m\u001b[38;5;124mYear\u001b[39m\u001b[38;5;124m'\u001b[39m] \u001b[38;5;241m>\u001b[39m \u001b[38;5;241m2019\u001b[39m]\u001b[38;5;241m.\u001b[39mindex, inplace \u001b[38;5;241m=\u001b[39m \u001b[38;5;28;01mTrue\u001b[39;00m)\n\u001b[0;32m     23\u001b[0m     )    \n\u001b[0;32m     24\u001b[0m     \u001b[38;5;28;01mreturn\u001b[39;00m GDP\n\u001b[1;32m---> 26\u001b[0m carbonData \u001b[38;5;241m=\u001b[39m load_and_process1(\u001b[38;5;124m'\u001b[39m\u001b[38;5;124m../data/raw/CO2emissions.csv\u001b[39m\u001b[38;5;124m'\u001b[39m)\n\u001b[0;32m     27\u001b[0m GDPdata \u001b[38;5;241m=\u001b[39m load_and_process2(\u001b[38;5;124m'\u001b[39m\u001b[38;5;124m../data/raw/gdp-per-capita-worldbank.csv\u001b[39m\u001b[38;5;124m'\u001b[39m)\n",
      "Cell \u001b[1;32mIn [1], line 5\u001b[0m, in \u001b[0;36mload_and_process1\u001b[1;34m(url_or_path_to_csv_file)\u001b[0m\n\u001b[0;32m      3\u001b[0m \u001b[38;5;28;01mdef\u001b[39;00m \u001b[38;5;21mload_and_process1\u001b[39m (url_or_path_to_csv_file):\n\u001b[0;32m      4\u001b[0m     carbon \u001b[38;5;241m=\u001b[39m (\n\u001b[1;32m----> 5\u001b[0m         \u001b[43mpd\u001b[49m\u001b[38;5;241m.\u001b[39mread_csv(url_or_path_to_csv_file, skiprows \u001b[38;5;241m=\u001b[39m\u001b[38;5;241m4\u001b[39m)       \n\u001b[0;32m      6\u001b[0m     )\n\u001b[0;32m      7\u001b[0m     carbon2 \u001b[38;5;241m=\u001b[39m (\n\u001b[0;32m      8\u001b[0m         carbon\n\u001b[0;32m      9\u001b[0m         \u001b[38;5;241m.\u001b[39mdrop(carbon\u001b[38;5;241m.\u001b[39mcolumns[[\u001b[38;5;241m3\u001b[39m,\u001b[38;5;241m4\u001b[39m,\u001b[38;5;241m5\u001b[39m,\u001b[38;5;241m6\u001b[39m,\u001b[38;5;241m7\u001b[39m,\u001b[38;5;241m8\u001b[39m,\u001b[38;5;241m9\u001b[39m,\u001b[38;5;241m10\u001b[39m,\u001b[38;5;241m11\u001b[39m,\u001b[38;5;241m12\u001b[39m,\u001b[38;5;241m13\u001b[39m,\u001b[38;5;241m14\u001b[39m,\u001b[38;5;241m15\u001b[39m,\u001b[38;5;241m16\u001b[39m,\u001b[38;5;241m17\u001b[39m,\u001b[38;5;241m18\u001b[39m,\u001b[38;5;241m19\u001b[39m,\u001b[38;5;241m20\u001b[39m,\u001b[38;5;241m21\u001b[39m,\u001b[38;5;241m22\u001b[39m,\u001b[38;5;241m23\u001b[39m,\u001b[38;5;241m24\u001b[39m,\u001b[38;5;241m25\u001b[39m,\u001b[38;5;241m26\u001b[39m,\u001b[38;5;241m27\u001b[39m,\u001b[38;5;241m28\u001b[39m,\u001b[38;5;241m29\u001b[39m,\u001b[38;5;241m30\u001b[39m,\u001b[38;5;241m31\u001b[39m,\u001b[38;5;241m32\u001b[39m,\u001b[38;5;241m33\u001b[39m,\u001b[38;5;241m34\u001b[39m,\u001b[38;5;241m64\u001b[39m,\u001b[38;5;241m65\u001b[39m,\u001b[38;5;241m66\u001b[39m]], axis\u001b[38;5;241m=\u001b[39m\u001b[38;5;241m1\u001b[39m)\n\u001b[0;32m     10\u001b[0m         \u001b[38;5;241m.\u001b[39mdrop(carbon\u001b[38;5;241m.\u001b[39mcolumns[[\u001b[38;5;241m2\u001b[39m,\u001b[38;5;241m3\u001b[39m,\u001b[38;5;241m4\u001b[39m,\u001b[38;5;241m5\u001b[39m,\u001b[38;5;241m6\u001b[39m,\u001b[38;5;241m7\u001b[39m,\u001b[38;5;241m8\u001b[39m,\u001b[38;5;241m9\u001b[39m,\u001b[38;5;241m10\u001b[39m,\u001b[38;5;241m11\u001b[39m,\u001b[38;5;241m12\u001b[39m,\u001b[38;5;241m13\u001b[39m,\u001b[38;5;241m14\u001b[39m,\u001b[38;5;241m15\u001b[39m]], axis\u001b[38;5;241m=\u001b[39m\u001b[38;5;241m1\u001b[39m)\n\u001b[0;32m     11\u001b[0m     )\n\u001b[0;32m     12\u001b[0m     \u001b[38;5;28;01mreturn\u001b[39;00m carbon2\n",
      "\u001b[1;31mNameError\u001b[0m: name 'pd' is not defined"
     ]
    }
   ],
   "source": [
    "#Cannot get this to work\n",
    "\n",
    "def load_and_process1 (url_or_path_to_csv_file):\n",
    "    carbon = (\n",
    "        pd.read_csv(url_or_path_to_csv_file, skiprows =4)       \n",
    "    )\n",
    "    carbon2 = (\n",
    "        carbon\n",
    "        .drop(carbon.columns[[3,4,5,6,7,8,9,10,11,12,13,14,15,16,17,18,19,20,21,22,23,24,25,26,27,28,29,30,31,32,33,34,64,65,66]], axis=1)\n",
    "        .drop(carbon.columns[[2,3,4,5,6,7,8,9,10,11,12,13,14,15]], axis=1)\n",
    "    )\n",
    "    return carbon2\n",
    "\n",
    "def load_and_process2(url_or_path_to_csv_file):\n",
    "    GDP = (\n",
    "        pd.read_csv(url_or_path_to_csv_file)\n",
    "        .rename(columns={\"GDP per capita, PPP (constant 2017 international $)\" : \"GDP\"}, inplace=True)\n",
    "    )    \n",
    "    GDP2 = (\n",
    "        GDP\n",
    "        .drop(PGDP[PGDP['Year'] < 2004].index, inplace = True)\n",
    "        .drop(PGDP[PGDP['Year'] > 2019].index, inplace = True)\n",
    "    )    \n",
    "    return GDP\n",
    "\n",
    "carbonData = load_and_process1('../data/raw/CO2emissions.csv')\n",
    "GDPdata = load_and_process2('../data/raw/gdp-per-capita-worldbank.csv')\n",
    "   "
   ]
  },
  {
   "cell_type": "code",
   "execution_count": null,
   "metadata": {},
   "outputs": [],
   "source": []
  }
 ],
 "metadata": {
  "kernelspec": {
   "display_name": "Python 3 (ipykernel)",
   "language": "python",
   "name": "python3"
  },
  "language_info": {
   "codemirror_mode": {
    "name": "ipython",
    "version": 3
   },
   "file_extension": ".py",
   "mimetype": "text/x-python",
   "name": "python",
   "nbconvert_exporter": "python",
   "pygments_lexer": "ipython3",
   "version": "3.9.13"
  }
 },
 "nbformat": 4,
 "nbformat_minor": 4
}
