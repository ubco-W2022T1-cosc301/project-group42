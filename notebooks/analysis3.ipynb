{
 "cells": [
  {
   "cell_type": "markdown",
   "metadata": {},
   "source": [
    "# Jayden Uphill"
   ]
  },
  {
   "cell_type": "markdown",
   "metadata": {},
   "source": [
    "## Research question/interests\n",
    "\n",
    "My interest in this topic focuses on which countries are mitigating their carbon footprint. I want to know:\n",
    "\n",
    "1. Which countries (if any) have reduced their annual C02 emissions within the last 15 years?\n",
    "\n",
    "2. Does the wealth of a country have a corrolation to higher C02 emissions? E.g. U.S.A. is more wealthy than China but may emit less C02, and more wealthy than Canada but may emit more C02.\n"
   ]
  },
  {
   "cell_type": "code",
   "execution_count": 32,
   "metadata": {},
   "outputs": [],
   "source": [
    "import pandas as pd"
   ]
  },
  {
   "cell_type": "code",
   "execution_count": 29,
   "metadata": {
    "tags": []
   },
   "outputs": [
    {
     "name": "stdout",
     "output_type": "stream",
     "text": [
      "                    Country Name Country Code  \\\n",
      "0                          Aruba          ABW   \n",
      "1    Africa Eastern and Southern          AFE   \n",
      "2                    Afghanistan          AFG   \n",
      "3     Africa Western and Central          AFW   \n",
      "4                         Angola          AGO   \n",
      "..                           ...          ...   \n",
      "261                       Kosovo          XKX   \n",
      "262                  Yemen, Rep.          YEM   \n",
      "263                 South Africa          ZAF   \n",
      "264                       Zambia          ZMB   \n",
      "265                     Zimbabwe          ZWE   \n",
      "\n",
      "                             Indicator Name      1991      1992      1993  \\\n",
      "0    CO2 emissions (metric tons per capita)       NaN       NaN       NaN   \n",
      "1    CO2 emissions (metric tons per capita)  0.953224  0.915661  0.916485   \n",
      "2    CO2 emissions (metric tons per capita)  0.167682  0.095958  0.084721   \n",
      "3    CO2 emissions (metric tons per capita)  0.530016  0.568305  0.523529   \n",
      "4    CO2 emissions (metric tons per capita)  0.544539  0.543557  0.708984   \n",
      "..                                      ...       ...       ...       ...   \n",
      "261  CO2 emissions (metric tons per capita)       NaN       NaN       NaN   \n",
      "262  CO2 emissions (metric tons per capita)  0.690937  0.704793  0.627105   \n",
      "263  CO2 emissions (metric tons per capita)  6.424622  6.175430  6.219194   \n",
      "264  CO2 emissions (metric tons per capita)  0.349232  0.337224  0.289956   \n",
      "265  CO2 emissions (metric tons per capita)  1.713321  1.694416  1.539741   \n",
      "\n",
      "         1994      1995      1996      1997  ...      2010      2011  \\\n",
      "0         NaN       NaN       NaN       NaN  ...       NaN       NaN   \n",
      "1    0.917093  0.936570  0.947393  0.967836  ...  1.021548  0.979352   \n",
      "2    0.075546  0.068468  0.062588  0.056827  ...  0.243614  0.296506   \n",
      "3    0.470888  0.501681  0.564390  0.549638  ...  0.472077  0.476789   \n",
      "4    0.836804  0.912141  1.072168  1.086637  ...  0.976184  0.985522   \n",
      "..        ...       ...       ...       ...  ...       ...       ...   \n",
      "261       NaN       NaN       NaN       NaN  ...       NaN       NaN   \n",
      "262  0.653256  0.706081  0.698158  0.728608  ...  1.098258  0.963978   \n",
      "263  6.215847  6.378790  6.489192  6.723589  ...  8.304084  7.869816   \n",
      "264  0.241270  0.234153  0.188442  0.238601  ...  0.195502  0.217497   \n",
      "265  1.417186  1.356619  1.287559  1.186793  ...  0.756041  0.884886   \n",
      "\n",
      "         2012      2013      2014      2015      2016      2017      2018  \\\n",
      "0         NaN       NaN       NaN       NaN       NaN       NaN       NaN   \n",
      "1    0.992616  1.005027  1.016649  0.966589  0.948410  0.937926  0.917507   \n",
      "2    0.259295  0.185624  0.146236  0.172897  0.149789  0.131695  0.163295   \n",
      "3    0.480603  0.508099  0.515960  0.494065  0.499405  0.483140  0.486456   \n",
      "4    0.950696  1.036294  1.099779  1.135044  1.031811  0.813301  0.777675   \n",
      "..        ...       ...       ...       ...       ...       ...       ...   \n",
      "261       NaN       NaN       NaN       NaN       NaN       NaN       NaN   \n",
      "262  0.858491  1.106688  1.062211  0.511362  0.399364  0.359622  0.341068   \n",
      "263  8.077958  8.138264  8.212241  7.669938  7.563739  7.641675  7.515679   \n",
      "264  0.278601  0.284058  0.304550  0.312355  0.325115  0.404068  0.445489   \n",
      "265  0.915735  0.919824  0.889104  0.899770  0.785441  0.726297  0.857411   \n",
      "\n",
      "         2019  \n",
      "0         NaN  \n",
      "1    0.913618  \n",
      "2    0.159824  \n",
      "3    0.493923  \n",
      "4    0.792137  \n",
      "..        ...  \n",
      "261       NaN  \n",
      "262  0.380633  \n",
      "263  7.507736  \n",
      "264  0.380717  \n",
      "265  0.802979  \n",
      "\n",
      "[266 rows x 32 columns]\n"
     ]
    }
   ],
   "source": [
    "carbon = pd.read_csv('../data/raw/CO2emissions.csv', skiprows =4)\n",
    "carbon = carbon.drop(carbon.columns[[3,4,5,6,7,8,9,10,11,12,13,14,15,16,17,18,19,20,21,22,23,24,25,26,27,28,29,30,31,32,33,34,64,65,66]], axis=1)\n",
    "\n",
    "print(carbonData)"
   ]
  },
  {
   "cell_type": "code",
   "execution_count": 34,
   "metadata": {},
   "outputs": [
    {
     "name": "stdout",
     "output_type": "stream",
     "text": [
      "           Entity Code  Year  \\\n",
      "0     Afghanistan  AFG  2002   \n",
      "1     Afghanistan  AFG  2003   \n",
      "2     Afghanistan  AFG  2004   \n",
      "3     Afghanistan  AFG  2005   \n",
      "4     Afghanistan  AFG  2006   \n",
      "...           ...  ...   ...   \n",
      "6161     Zimbabwe  ZWE  2016   \n",
      "6162     Zimbabwe  ZWE  2017   \n",
      "6163     Zimbabwe  ZWE  2018   \n",
      "6164     Zimbabwe  ZWE  2019   \n",
      "6165     Zimbabwe  ZWE  2020   \n",
      "\n",
      "      GDP per capita, PPP (constant 2017 international $)  \n",
      "0                                           1189.784668    \n",
      "1                                           1235.810059    \n",
      "2                                           1200.277954    \n",
      "3                                           1286.793701    \n",
      "4                                           1315.789062    \n",
      "...                                                 ...    \n",
      "6161                                        3678.217041    \n",
      "6162                                        3795.642334    \n",
      "6163                                        3923.030518    \n",
      "6164                                        3630.033936    \n",
      "6165                                        3353.411377    \n",
      "\n",
      "[6166 rows x 4 columns]\n"
     ]
    }
   ],
   "source": [
    "GDP = pd.read_csv('../data/raw/gdp-per-capita-worldbank.csv')\n",
    "\n",
    "print(GDP)"
   ]
  },
  {
   "cell_type": "code",
   "execution_count": null,
   "metadata": {},
   "outputs": [],
   "source": []
  }
 ],
 "metadata": {
  "kernelspec": {
   "display_name": "Python 3 (ipykernel)",
   "language": "python",
   "name": "python3"
  },
  "language_info": {
   "codemirror_mode": {
    "name": "ipython",
    "version": 3
   },
   "file_extension": ".py",
   "mimetype": "text/x-python",
   "name": "python",
   "nbconvert_exporter": "python",
   "pygments_lexer": "ipython3",
   "version": "3.9.12"
  }
 },
 "nbformat": 4,
 "nbformat_minor": 4
}
